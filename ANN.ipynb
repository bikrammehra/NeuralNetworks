{
  "nbformat": 4,
  "nbformat_minor": 0,
  "metadata": {
    "colab": {
      "name": "ANN ",
      "provenance": [],
      "collapsed_sections": []
    },
    "kernelspec": {
      "name": "python3",
      "display_name": "Python 3"
    },
    "accelerator": "GPU"
  },
  "cells": [
    {
      "cell_type": "code",
      "metadata": {
        "id": "q6Wa-j42VGVb",
        "colab_type": "code",
        "colab": {}
      },
      "source": [
        "import numpy as np\n",
        "import pandas as pd\n",
        "import matplotlib.pyplot as plt"
      ],
      "execution_count": 0,
      "outputs": []
    },
    {
      "cell_type": "code",
      "metadata": {
        "id": "vDqyVSOaWQTE",
        "colab_type": "code",
        "colab": {}
      },
      "source": [
        "raw_data = pd.read_csv('/content/drive/My Drive/Colab Notebooks/Data/Churn_Modelling.csv')"
      ],
      "execution_count": 0,
      "outputs": []
    },
    {
      "cell_type": "code",
      "metadata": {
        "id": "kUhV9gr4WZ7M",
        "colab_type": "code",
        "outputId": "d5b7f344-220a-4d76-c2ed-43f282fd1e51",
        "colab": {
          "base_uri": "https://localhost:8080/",
          "height": 204
        }
      },
      "source": [
        "raw_data.head()"
      ],
      "execution_count": 0,
      "outputs": [
        {
          "output_type": "execute_result",
          "data": {
            "text/html": [
              "<div>\n",
              "<style scoped>\n",
              "    .dataframe tbody tr th:only-of-type {\n",
              "        vertical-align: middle;\n",
              "    }\n",
              "\n",
              "    .dataframe tbody tr th {\n",
              "        vertical-align: top;\n",
              "    }\n",
              "\n",
              "    .dataframe thead th {\n",
              "        text-align: right;\n",
              "    }\n",
              "</style>\n",
              "<table border=\"1\" class=\"dataframe\">\n",
              "  <thead>\n",
              "    <tr style=\"text-align: right;\">\n",
              "      <th></th>\n",
              "      <th>RowNumber</th>\n",
              "      <th>CustomerId</th>\n",
              "      <th>Surname</th>\n",
              "      <th>CreditScore</th>\n",
              "      <th>Geography</th>\n",
              "      <th>Gender</th>\n",
              "      <th>Age</th>\n",
              "      <th>Tenure</th>\n",
              "      <th>Balance</th>\n",
              "      <th>NumOfProducts</th>\n",
              "      <th>HasCrCard</th>\n",
              "      <th>IsActiveMember</th>\n",
              "      <th>EstimatedSalary</th>\n",
              "      <th>Exited</th>\n",
              "    </tr>\n",
              "  </thead>\n",
              "  <tbody>\n",
              "    <tr>\n",
              "      <th>0</th>\n",
              "      <td>1</td>\n",
              "      <td>15634602</td>\n",
              "      <td>Hargrave</td>\n",
              "      <td>619</td>\n",
              "      <td>France</td>\n",
              "      <td>Female</td>\n",
              "      <td>42</td>\n",
              "      <td>2</td>\n",
              "      <td>0.00</td>\n",
              "      <td>1</td>\n",
              "      <td>1</td>\n",
              "      <td>1</td>\n",
              "      <td>101348.88</td>\n",
              "      <td>1</td>\n",
              "    </tr>\n",
              "    <tr>\n",
              "      <th>1</th>\n",
              "      <td>2</td>\n",
              "      <td>15647311</td>\n",
              "      <td>Hill</td>\n",
              "      <td>608</td>\n",
              "      <td>Spain</td>\n",
              "      <td>Female</td>\n",
              "      <td>41</td>\n",
              "      <td>1</td>\n",
              "      <td>83807.86</td>\n",
              "      <td>1</td>\n",
              "      <td>0</td>\n",
              "      <td>1</td>\n",
              "      <td>112542.58</td>\n",
              "      <td>0</td>\n",
              "    </tr>\n",
              "    <tr>\n",
              "      <th>2</th>\n",
              "      <td>3</td>\n",
              "      <td>15619304</td>\n",
              "      <td>Onio</td>\n",
              "      <td>502</td>\n",
              "      <td>France</td>\n",
              "      <td>Female</td>\n",
              "      <td>42</td>\n",
              "      <td>8</td>\n",
              "      <td>159660.80</td>\n",
              "      <td>3</td>\n",
              "      <td>1</td>\n",
              "      <td>0</td>\n",
              "      <td>113931.57</td>\n",
              "      <td>1</td>\n",
              "    </tr>\n",
              "    <tr>\n",
              "      <th>3</th>\n",
              "      <td>4</td>\n",
              "      <td>15701354</td>\n",
              "      <td>Boni</td>\n",
              "      <td>699</td>\n",
              "      <td>France</td>\n",
              "      <td>Female</td>\n",
              "      <td>39</td>\n",
              "      <td>1</td>\n",
              "      <td>0.00</td>\n",
              "      <td>2</td>\n",
              "      <td>0</td>\n",
              "      <td>0</td>\n",
              "      <td>93826.63</td>\n",
              "      <td>0</td>\n",
              "    </tr>\n",
              "    <tr>\n",
              "      <th>4</th>\n",
              "      <td>5</td>\n",
              "      <td>15737888</td>\n",
              "      <td>Mitchell</td>\n",
              "      <td>850</td>\n",
              "      <td>Spain</td>\n",
              "      <td>Female</td>\n",
              "      <td>43</td>\n",
              "      <td>2</td>\n",
              "      <td>125510.82</td>\n",
              "      <td>1</td>\n",
              "      <td>1</td>\n",
              "      <td>1</td>\n",
              "      <td>79084.10</td>\n",
              "      <td>0</td>\n",
              "    </tr>\n",
              "  </tbody>\n",
              "</table>\n",
              "</div>"
            ],
            "text/plain": [
              "   RowNumber  CustomerId   Surname  ...  IsActiveMember EstimatedSalary Exited\n",
              "0          1    15634602  Hargrave  ...               1       101348.88      1\n",
              "1          2    15647311      Hill  ...               1       112542.58      0\n",
              "2          3    15619304      Onio  ...               0       113931.57      1\n",
              "3          4    15701354      Boni  ...               0        93826.63      0\n",
              "4          5    15737888  Mitchell  ...               1        79084.10      0\n",
              "\n",
              "[5 rows x 14 columns]"
            ]
          },
          "metadata": {
            "tags": []
          },
          "execution_count": 3
        }
      ]
    },
    {
      "cell_type": "code",
      "metadata": {
        "id": "17-Mla_b-dEb",
        "colab_type": "code",
        "colab": {}
      },
      "source": [
        "Customer_Data = raw_data.drop(columns=['RowNumber','CustomerId','Surname'])"
      ],
      "execution_count": 0,
      "outputs": []
    },
    {
      "cell_type": "code",
      "metadata": {
        "id": "-FZn0Ks5-pD0",
        "colab_type": "code",
        "outputId": "01383f8b-22a7-4ed2-ac73-7ba048b9e307",
        "colab": {
          "base_uri": "https://localhost:8080/",
          "height": 204
        }
      },
      "source": [
        "Customer_Data.head()"
      ],
      "execution_count": 0,
      "outputs": [
        {
          "output_type": "execute_result",
          "data": {
            "text/html": [
              "<div>\n",
              "<style scoped>\n",
              "    .dataframe tbody tr th:only-of-type {\n",
              "        vertical-align: middle;\n",
              "    }\n",
              "\n",
              "    .dataframe tbody tr th {\n",
              "        vertical-align: top;\n",
              "    }\n",
              "\n",
              "    .dataframe thead th {\n",
              "        text-align: right;\n",
              "    }\n",
              "</style>\n",
              "<table border=\"1\" class=\"dataframe\">\n",
              "  <thead>\n",
              "    <tr style=\"text-align: right;\">\n",
              "      <th></th>\n",
              "      <th>CreditScore</th>\n",
              "      <th>Geography</th>\n",
              "      <th>Gender</th>\n",
              "      <th>Age</th>\n",
              "      <th>Tenure</th>\n",
              "      <th>Balance</th>\n",
              "      <th>NumOfProducts</th>\n",
              "      <th>HasCrCard</th>\n",
              "      <th>IsActiveMember</th>\n",
              "      <th>EstimatedSalary</th>\n",
              "      <th>Exited</th>\n",
              "    </tr>\n",
              "  </thead>\n",
              "  <tbody>\n",
              "    <tr>\n",
              "      <th>0</th>\n",
              "      <td>619</td>\n",
              "      <td>France</td>\n",
              "      <td>Female</td>\n",
              "      <td>42</td>\n",
              "      <td>2</td>\n",
              "      <td>0.00</td>\n",
              "      <td>1</td>\n",
              "      <td>1</td>\n",
              "      <td>1</td>\n",
              "      <td>101348.88</td>\n",
              "      <td>1</td>\n",
              "    </tr>\n",
              "    <tr>\n",
              "      <th>1</th>\n",
              "      <td>608</td>\n",
              "      <td>Spain</td>\n",
              "      <td>Female</td>\n",
              "      <td>41</td>\n",
              "      <td>1</td>\n",
              "      <td>83807.86</td>\n",
              "      <td>1</td>\n",
              "      <td>0</td>\n",
              "      <td>1</td>\n",
              "      <td>112542.58</td>\n",
              "      <td>0</td>\n",
              "    </tr>\n",
              "    <tr>\n",
              "      <th>2</th>\n",
              "      <td>502</td>\n",
              "      <td>France</td>\n",
              "      <td>Female</td>\n",
              "      <td>42</td>\n",
              "      <td>8</td>\n",
              "      <td>159660.80</td>\n",
              "      <td>3</td>\n",
              "      <td>1</td>\n",
              "      <td>0</td>\n",
              "      <td>113931.57</td>\n",
              "      <td>1</td>\n",
              "    </tr>\n",
              "    <tr>\n",
              "      <th>3</th>\n",
              "      <td>699</td>\n",
              "      <td>France</td>\n",
              "      <td>Female</td>\n",
              "      <td>39</td>\n",
              "      <td>1</td>\n",
              "      <td>0.00</td>\n",
              "      <td>2</td>\n",
              "      <td>0</td>\n",
              "      <td>0</td>\n",
              "      <td>93826.63</td>\n",
              "      <td>0</td>\n",
              "    </tr>\n",
              "    <tr>\n",
              "      <th>4</th>\n",
              "      <td>850</td>\n",
              "      <td>Spain</td>\n",
              "      <td>Female</td>\n",
              "      <td>43</td>\n",
              "      <td>2</td>\n",
              "      <td>125510.82</td>\n",
              "      <td>1</td>\n",
              "      <td>1</td>\n",
              "      <td>1</td>\n",
              "      <td>79084.10</td>\n",
              "      <td>0</td>\n",
              "    </tr>\n",
              "  </tbody>\n",
              "</table>\n",
              "</div>"
            ],
            "text/plain": [
              "   CreditScore Geography  Gender  ...  IsActiveMember  EstimatedSalary  Exited\n",
              "0          619    France  Female  ...               1        101348.88       1\n",
              "1          608     Spain  Female  ...               1        112542.58       0\n",
              "2          502    France  Female  ...               0        113931.57       1\n",
              "3          699    France  Female  ...               0         93826.63       0\n",
              "4          850     Spain  Female  ...               1         79084.10       0\n",
              "\n",
              "[5 rows x 11 columns]"
            ]
          },
          "metadata": {
            "tags": []
          },
          "execution_count": 5
        }
      ]
    },
    {
      "cell_type": "code",
      "metadata": {
        "id": "Emugzat8-qKf",
        "colab_type": "code",
        "colab": {}
      },
      "source": [
        "from sklearn.preprocessing import LabelEncoder, OneHotEncoder\n",
        "\n",
        "label_encoder_geo = LabelEncoder()\n",
        "label_encoder_gender = LabelEncoder()\n",
        "\n",
        "Customer_Data['Geography'] = label_encoder_geo.fit_transform(Customer_Data['Geography'])\n",
        "Customer_Data['Gender'] = label_encoder_gender.fit_transform(Customer_Data['Gender'])\n"
      ],
      "execution_count": 0,
      "outputs": []
    },
    {
      "cell_type": "code",
      "metadata": {
        "id": "uITdwknABXwZ",
        "colab_type": "code",
        "outputId": "7f0490bb-c27b-4514-c9ad-2b4a19f870cf",
        "colab": {
          "base_uri": "https://localhost:8080/",
          "height": 204
        }
      },
      "source": [
        "Customer_Data.head()"
      ],
      "execution_count": 0,
      "outputs": [
        {
          "output_type": "execute_result",
          "data": {
            "text/html": [
              "<div>\n",
              "<style scoped>\n",
              "    .dataframe tbody tr th:only-of-type {\n",
              "        vertical-align: middle;\n",
              "    }\n",
              "\n",
              "    .dataframe tbody tr th {\n",
              "        vertical-align: top;\n",
              "    }\n",
              "\n",
              "    .dataframe thead th {\n",
              "        text-align: right;\n",
              "    }\n",
              "</style>\n",
              "<table border=\"1\" class=\"dataframe\">\n",
              "  <thead>\n",
              "    <tr style=\"text-align: right;\">\n",
              "      <th></th>\n",
              "      <th>CreditScore</th>\n",
              "      <th>Geography</th>\n",
              "      <th>Gender</th>\n",
              "      <th>Age</th>\n",
              "      <th>Tenure</th>\n",
              "      <th>Balance</th>\n",
              "      <th>NumOfProducts</th>\n",
              "      <th>HasCrCard</th>\n",
              "      <th>IsActiveMember</th>\n",
              "      <th>EstimatedSalary</th>\n",
              "      <th>Exited</th>\n",
              "    </tr>\n",
              "  </thead>\n",
              "  <tbody>\n",
              "    <tr>\n",
              "      <th>0</th>\n",
              "      <td>619</td>\n",
              "      <td>0</td>\n",
              "      <td>0</td>\n",
              "      <td>42</td>\n",
              "      <td>2</td>\n",
              "      <td>0.00</td>\n",
              "      <td>1</td>\n",
              "      <td>1</td>\n",
              "      <td>1</td>\n",
              "      <td>101348.88</td>\n",
              "      <td>1</td>\n",
              "    </tr>\n",
              "    <tr>\n",
              "      <th>1</th>\n",
              "      <td>608</td>\n",
              "      <td>2</td>\n",
              "      <td>0</td>\n",
              "      <td>41</td>\n",
              "      <td>1</td>\n",
              "      <td>83807.86</td>\n",
              "      <td>1</td>\n",
              "      <td>0</td>\n",
              "      <td>1</td>\n",
              "      <td>112542.58</td>\n",
              "      <td>0</td>\n",
              "    </tr>\n",
              "    <tr>\n",
              "      <th>2</th>\n",
              "      <td>502</td>\n",
              "      <td>0</td>\n",
              "      <td>0</td>\n",
              "      <td>42</td>\n",
              "      <td>8</td>\n",
              "      <td>159660.80</td>\n",
              "      <td>3</td>\n",
              "      <td>1</td>\n",
              "      <td>0</td>\n",
              "      <td>113931.57</td>\n",
              "      <td>1</td>\n",
              "    </tr>\n",
              "    <tr>\n",
              "      <th>3</th>\n",
              "      <td>699</td>\n",
              "      <td>0</td>\n",
              "      <td>0</td>\n",
              "      <td>39</td>\n",
              "      <td>1</td>\n",
              "      <td>0.00</td>\n",
              "      <td>2</td>\n",
              "      <td>0</td>\n",
              "      <td>0</td>\n",
              "      <td>93826.63</td>\n",
              "      <td>0</td>\n",
              "    </tr>\n",
              "    <tr>\n",
              "      <th>4</th>\n",
              "      <td>850</td>\n",
              "      <td>2</td>\n",
              "      <td>0</td>\n",
              "      <td>43</td>\n",
              "      <td>2</td>\n",
              "      <td>125510.82</td>\n",
              "      <td>1</td>\n",
              "      <td>1</td>\n",
              "      <td>1</td>\n",
              "      <td>79084.10</td>\n",
              "      <td>0</td>\n",
              "    </tr>\n",
              "  </tbody>\n",
              "</table>\n",
              "</div>"
            ],
            "text/plain": [
              "   CreditScore  Geography  Gender  ...  IsActiveMember  EstimatedSalary  Exited\n",
              "0          619          0       0  ...               1        101348.88       1\n",
              "1          608          2       0  ...               1        112542.58       0\n",
              "2          502          0       0  ...               0        113931.57       1\n",
              "3          699          0       0  ...               0         93826.63       0\n",
              "4          850          2       0  ...               1         79084.10       0\n",
              "\n",
              "[5 rows x 11 columns]"
            ]
          },
          "metadata": {
            "tags": []
          },
          "execution_count": 7
        }
      ]
    },
    {
      "cell_type": "code",
      "metadata": {
        "id": "KhnmNYW7eh-e",
        "colab_type": "code",
        "colab": {}
      },
      "source": [
        "X = Customer_Data.drop(columns=['Exited'])\n",
        "y = Customer_Data[['Exited']]"
      ],
      "execution_count": 0,
      "outputs": []
    },
    {
      "cell_type": "code",
      "metadata": {
        "id": "mJ8DRUuqCTtU",
        "colab_type": "code",
        "colab": {}
      },
      "source": [
        "# X = pd.concat([X, pd.get_dummies(X['Geography'],prefix='Geography')],axis=1)\n",
        "# X.drop(columns=['Geography'],inplace=True,axis=1)"
      ],
      "execution_count": 0,
      "outputs": []
    },
    {
      "cell_type": "code",
      "metadata": {
        "id": "cqEITc1xDjga",
        "colab_type": "code",
        "outputId": "2fdd51bb-2952-4d72-d257-01a65ddfa2cf",
        "colab": {
          "base_uri": "https://localhost:8080/",
          "height": 204
        }
      },
      "source": [
        "X.head()"
      ],
      "execution_count": 0,
      "outputs": [
        {
          "output_type": "execute_result",
          "data": {
            "text/html": [
              "<div>\n",
              "<style scoped>\n",
              "    .dataframe tbody tr th:only-of-type {\n",
              "        vertical-align: middle;\n",
              "    }\n",
              "\n",
              "    .dataframe tbody tr th {\n",
              "        vertical-align: top;\n",
              "    }\n",
              "\n",
              "    .dataframe thead th {\n",
              "        text-align: right;\n",
              "    }\n",
              "</style>\n",
              "<table border=\"1\" class=\"dataframe\">\n",
              "  <thead>\n",
              "    <tr style=\"text-align: right;\">\n",
              "      <th></th>\n",
              "      <th>CreditScore</th>\n",
              "      <th>Geography</th>\n",
              "      <th>Gender</th>\n",
              "      <th>Age</th>\n",
              "      <th>Tenure</th>\n",
              "      <th>Balance</th>\n",
              "      <th>NumOfProducts</th>\n",
              "      <th>HasCrCard</th>\n",
              "      <th>IsActiveMember</th>\n",
              "      <th>EstimatedSalary</th>\n",
              "    </tr>\n",
              "  </thead>\n",
              "  <tbody>\n",
              "    <tr>\n",
              "      <th>0</th>\n",
              "      <td>619</td>\n",
              "      <td>0</td>\n",
              "      <td>0</td>\n",
              "      <td>42</td>\n",
              "      <td>2</td>\n",
              "      <td>0.00</td>\n",
              "      <td>1</td>\n",
              "      <td>1</td>\n",
              "      <td>1</td>\n",
              "      <td>101348.88</td>\n",
              "    </tr>\n",
              "    <tr>\n",
              "      <th>1</th>\n",
              "      <td>608</td>\n",
              "      <td>2</td>\n",
              "      <td>0</td>\n",
              "      <td>41</td>\n",
              "      <td>1</td>\n",
              "      <td>83807.86</td>\n",
              "      <td>1</td>\n",
              "      <td>0</td>\n",
              "      <td>1</td>\n",
              "      <td>112542.58</td>\n",
              "    </tr>\n",
              "    <tr>\n",
              "      <th>2</th>\n",
              "      <td>502</td>\n",
              "      <td>0</td>\n",
              "      <td>0</td>\n",
              "      <td>42</td>\n",
              "      <td>8</td>\n",
              "      <td>159660.80</td>\n",
              "      <td>3</td>\n",
              "      <td>1</td>\n",
              "      <td>0</td>\n",
              "      <td>113931.57</td>\n",
              "    </tr>\n",
              "    <tr>\n",
              "      <th>3</th>\n",
              "      <td>699</td>\n",
              "      <td>0</td>\n",
              "      <td>0</td>\n",
              "      <td>39</td>\n",
              "      <td>1</td>\n",
              "      <td>0.00</td>\n",
              "      <td>2</td>\n",
              "      <td>0</td>\n",
              "      <td>0</td>\n",
              "      <td>93826.63</td>\n",
              "    </tr>\n",
              "    <tr>\n",
              "      <th>4</th>\n",
              "      <td>850</td>\n",
              "      <td>2</td>\n",
              "      <td>0</td>\n",
              "      <td>43</td>\n",
              "      <td>2</td>\n",
              "      <td>125510.82</td>\n",
              "      <td>1</td>\n",
              "      <td>1</td>\n",
              "      <td>1</td>\n",
              "      <td>79084.10</td>\n",
              "    </tr>\n",
              "  </tbody>\n",
              "</table>\n",
              "</div>"
            ],
            "text/plain": [
              "   CreditScore  Geography  Gender  ...  HasCrCard  IsActiveMember  EstimatedSalary\n",
              "0          619          0       0  ...          1               1        101348.88\n",
              "1          608          2       0  ...          0               1        112542.58\n",
              "2          502          0       0  ...          1               0        113931.57\n",
              "3          699          0       0  ...          0               0         93826.63\n",
              "4          850          2       0  ...          1               1         79084.10\n",
              "\n",
              "[5 rows x 10 columns]"
            ]
          },
          "metadata": {
            "tags": []
          },
          "execution_count": 10
        }
      ]
    },
    {
      "cell_type": "code",
      "metadata": {
        "id": "1nBwjGhqFOcB",
        "colab_type": "code",
        "outputId": "4725e9f9-d5ef-4ced-aab0-f539385fa981",
        "colab": {
          "base_uri": "https://localhost:8080/",
          "height": 34
        }
      },
      "source": [
        "X.shape"
      ],
      "execution_count": 0,
      "outputs": [
        {
          "output_type": "execute_result",
          "data": {
            "text/plain": [
              "(10000, 10)"
            ]
          },
          "metadata": {
            "tags": []
          },
          "execution_count": 11
        }
      ]
    },
    {
      "cell_type": "code",
      "metadata": {
        "id": "7r2SIWhsibHJ",
        "colab_type": "code",
        "colab": {}
      },
      "source": [
        "from sklearn.model_selection import train_test_split\n",
        "\n",
        "X_train, X_test, y_train, y_test = train_test_split(X, y, test_size=.2)"
      ],
      "execution_count": 0,
      "outputs": []
    },
    {
      "cell_type": "code",
      "metadata": {
        "id": "XW-KYXbKifVE",
        "colab_type": "code",
        "outputId": "b863f1db-9358-44ba-b5fb-f510138eec25",
        "colab": {
          "base_uri": "https://localhost:8080/",
          "height": 204
        }
      },
      "source": [
        "X.head()"
      ],
      "execution_count": 0,
      "outputs": [
        {
          "output_type": "execute_result",
          "data": {
            "text/html": [
              "<div>\n",
              "<style scoped>\n",
              "    .dataframe tbody tr th:only-of-type {\n",
              "        vertical-align: middle;\n",
              "    }\n",
              "\n",
              "    .dataframe tbody tr th {\n",
              "        vertical-align: top;\n",
              "    }\n",
              "\n",
              "    .dataframe thead th {\n",
              "        text-align: right;\n",
              "    }\n",
              "</style>\n",
              "<table border=\"1\" class=\"dataframe\">\n",
              "  <thead>\n",
              "    <tr style=\"text-align: right;\">\n",
              "      <th></th>\n",
              "      <th>CreditScore</th>\n",
              "      <th>Geography</th>\n",
              "      <th>Gender</th>\n",
              "      <th>Age</th>\n",
              "      <th>Tenure</th>\n",
              "      <th>Balance</th>\n",
              "      <th>NumOfProducts</th>\n",
              "      <th>HasCrCard</th>\n",
              "      <th>IsActiveMember</th>\n",
              "      <th>EstimatedSalary</th>\n",
              "    </tr>\n",
              "  </thead>\n",
              "  <tbody>\n",
              "    <tr>\n",
              "      <th>0</th>\n",
              "      <td>619</td>\n",
              "      <td>0</td>\n",
              "      <td>0</td>\n",
              "      <td>42</td>\n",
              "      <td>2</td>\n",
              "      <td>0.00</td>\n",
              "      <td>1</td>\n",
              "      <td>1</td>\n",
              "      <td>1</td>\n",
              "      <td>101348.88</td>\n",
              "    </tr>\n",
              "    <tr>\n",
              "      <th>1</th>\n",
              "      <td>608</td>\n",
              "      <td>2</td>\n",
              "      <td>0</td>\n",
              "      <td>41</td>\n",
              "      <td>1</td>\n",
              "      <td>83807.86</td>\n",
              "      <td>1</td>\n",
              "      <td>0</td>\n",
              "      <td>1</td>\n",
              "      <td>112542.58</td>\n",
              "    </tr>\n",
              "    <tr>\n",
              "      <th>2</th>\n",
              "      <td>502</td>\n",
              "      <td>0</td>\n",
              "      <td>0</td>\n",
              "      <td>42</td>\n",
              "      <td>8</td>\n",
              "      <td>159660.80</td>\n",
              "      <td>3</td>\n",
              "      <td>1</td>\n",
              "      <td>0</td>\n",
              "      <td>113931.57</td>\n",
              "    </tr>\n",
              "    <tr>\n",
              "      <th>3</th>\n",
              "      <td>699</td>\n",
              "      <td>0</td>\n",
              "      <td>0</td>\n",
              "      <td>39</td>\n",
              "      <td>1</td>\n",
              "      <td>0.00</td>\n",
              "      <td>2</td>\n",
              "      <td>0</td>\n",
              "      <td>0</td>\n",
              "      <td>93826.63</td>\n",
              "    </tr>\n",
              "    <tr>\n",
              "      <th>4</th>\n",
              "      <td>850</td>\n",
              "      <td>2</td>\n",
              "      <td>0</td>\n",
              "      <td>43</td>\n",
              "      <td>2</td>\n",
              "      <td>125510.82</td>\n",
              "      <td>1</td>\n",
              "      <td>1</td>\n",
              "      <td>1</td>\n",
              "      <td>79084.10</td>\n",
              "    </tr>\n",
              "  </tbody>\n",
              "</table>\n",
              "</div>"
            ],
            "text/plain": [
              "   CreditScore  Geography  Gender  ...  HasCrCard  IsActiveMember  EstimatedSalary\n",
              "0          619          0       0  ...          1               1        101348.88\n",
              "1          608          2       0  ...          0               1        112542.58\n",
              "2          502          0       0  ...          1               0        113931.57\n",
              "3          699          0       0  ...          0               0         93826.63\n",
              "4          850          2       0  ...          1               1         79084.10\n",
              "\n",
              "[5 rows x 10 columns]"
            ]
          },
          "metadata": {
            "tags": []
          },
          "execution_count": 13
        }
      ]
    },
    {
      "cell_type": "code",
      "metadata": {
        "id": "CNLX-AjNifO9",
        "colab_type": "code",
        "outputId": "595012e4-2fa3-4218-c2cd-f9e8235fd8cd",
        "colab": {
          "base_uri": "https://localhost:8080/",
          "height": 204
        }
      },
      "source": [
        "y.head()"
      ],
      "execution_count": 0,
      "outputs": [
        {
          "output_type": "execute_result",
          "data": {
            "text/html": [
              "<div>\n",
              "<style scoped>\n",
              "    .dataframe tbody tr th:only-of-type {\n",
              "        vertical-align: middle;\n",
              "    }\n",
              "\n",
              "    .dataframe tbody tr th {\n",
              "        vertical-align: top;\n",
              "    }\n",
              "\n",
              "    .dataframe thead th {\n",
              "        text-align: right;\n",
              "    }\n",
              "</style>\n",
              "<table border=\"1\" class=\"dataframe\">\n",
              "  <thead>\n",
              "    <tr style=\"text-align: right;\">\n",
              "      <th></th>\n",
              "      <th>Exited</th>\n",
              "    </tr>\n",
              "  </thead>\n",
              "  <tbody>\n",
              "    <tr>\n",
              "      <th>0</th>\n",
              "      <td>1</td>\n",
              "    </tr>\n",
              "    <tr>\n",
              "      <th>1</th>\n",
              "      <td>0</td>\n",
              "    </tr>\n",
              "    <tr>\n",
              "      <th>2</th>\n",
              "      <td>1</td>\n",
              "    </tr>\n",
              "    <tr>\n",
              "      <th>3</th>\n",
              "      <td>0</td>\n",
              "    </tr>\n",
              "    <tr>\n",
              "      <th>4</th>\n",
              "      <td>0</td>\n",
              "    </tr>\n",
              "  </tbody>\n",
              "</table>\n",
              "</div>"
            ],
            "text/plain": [
              "   Exited\n",
              "0       1\n",
              "1       0\n",
              "2       1\n",
              "3       0\n",
              "4       0"
            ]
          },
          "metadata": {
            "tags": []
          },
          "execution_count": 14
        }
      ]
    },
    {
      "cell_type": "code",
      "metadata": {
        "id": "_ac1kcr2Fpd1",
        "colab_type": "code",
        "colab": {}
      },
      "source": [
        "from sklearn.preprocessing import StandardScaler\n",
        "\n",
        "standardscaler = StandardScaler()\n",
        "\n",
        "Scaled_Data_X_train = standardscaler.fit_transform(X_train)\n",
        "Scaled_Data_X_test = standardscaler.fit_transform(X_test)"
      ],
      "execution_count": 0,
      "outputs": []
    },
    {
      "cell_type": "code",
      "metadata": {
        "id": "s8i4a5bClmu3",
        "colab_type": "code",
        "outputId": "36678cd8-1d32-4c62-ab4b-f1b45e031167",
        "colab": {
          "base_uri": "https://localhost:8080/",
          "height": 238
        }
      },
      "source": [
        "Scaled_Data_X_train"
      ],
      "execution_count": 0,
      "outputs": [
        {
          "output_type": "execute_result",
          "data": {
            "text/plain": [
              "array([[ 0.14394347,  0.30329133, -1.09886556, ...,  0.64764683,\n",
              "         0.96995125,  0.18179504],\n",
              "       [ 0.40375517, -0.90084298, -1.09886556, ...,  0.64764683,\n",
              "         0.96995125, -0.87725431],\n",
              "       [-1.17589995,  0.30329133, -1.09886556, ...,  0.64764683,\n",
              "        -1.03097965,  0.33616805],\n",
              "       ...,\n",
              "       [-1.21746982, -0.90084298,  0.91002943, ...,  0.64764683,\n",
              "         0.96995125, -0.36169388],\n",
              "       [ 1.4949643 ,  1.50742563, -1.09886556, ...,  0.64764683,\n",
              "        -1.03097965, -1.12442075],\n",
              "       [ 0.01923386, -0.90084298,  0.91002943, ...,  0.64764683,\n",
              "        -1.03097965, -0.37787199]])"
            ]
          },
          "metadata": {
            "tags": []
          },
          "execution_count": 16
        }
      ]
    },
    {
      "cell_type": "code",
      "metadata": {
        "id": "ZZyNQ10qfNxV",
        "colab_type": "code",
        "outputId": "ba8f846c-58bf-4fa2-98c7-6662f236a196",
        "colab": {
          "base_uri": "https://localhost:8080/",
          "height": 34
        }
      },
      "source": [
        "import keras"
      ],
      "execution_count": 0,
      "outputs": [
        {
          "output_type": "stream",
          "text": [
            "Using TensorFlow backend.\n"
          ],
          "name": "stderr"
        }
      ]
    },
    {
      "cell_type": "code",
      "metadata": {
        "id": "NiqS6koXfjP5",
        "colab_type": "code",
        "colab": {}
      },
      "source": [
        "from keras.models import Sequential\n",
        "from keras.layers import  Dense"
      ],
      "execution_count": 0,
      "outputs": []
    },
    {
      "cell_type": "code",
      "metadata": {
        "id": "K1RO3tmXfqrF",
        "colab_type": "code",
        "colab": {}
      },
      "source": [
        "classifier = Sequential()"
      ],
      "execution_count": 0,
      "outputs": []
    },
    {
      "cell_type": "code",
      "metadata": {
        "id": "2mLHzZdgfvqg",
        "colab_type": "code",
        "colab": {}
      },
      "source": [
        "classifier.add(Dense(units=10, activation='relu', input_dim=10))\n",
        "classifier.add(Dense(units=10, activation='relu'))\n",
        "classifier.add(Dense(units=1, activation='sigmoid'))"
      ],
      "execution_count": 0,
      "outputs": []
    },
    {
      "cell_type": "code",
      "metadata": {
        "id": "UFKWs9lKgVsp",
        "colab_type": "code",
        "colab": {}
      },
      "source": [
        "classifier.compile(optimizer = 'adam', loss = 'binary_crossentropy', metrics = ['accuracy'])"
      ],
      "execution_count": 0,
      "outputs": []
    },
    {
      "cell_type": "code",
      "metadata": {
        "id": "19i6oJ_HgikE",
        "colab_type": "code",
        "outputId": "74983414-d160-4858-8d2f-9f44c20e226b",
        "colab": {
          "base_uri": "https://localhost:8080/",
          "height": 1000
        }
      },
      "source": [
        "classifier.fit(Scaled_Data_X_train, y_train, batch_size = 10, epochs = 100)\n"
      ],
      "execution_count": 0,
      "outputs": [
        {
          "output_type": "stream",
          "text": [
            "Epoch 1/100\n",
            "8000/8000 [==============================] - 2s 312us/step - loss: 0.4718 - accuracy: 0.7964\n",
            "Epoch 2/100\n",
            "8000/8000 [==============================] - 2s 259us/step - loss: 0.4220 - accuracy: 0.8070\n",
            "Epoch 3/100\n",
            "8000/8000 [==============================] - 2s 269us/step - loss: 0.3949 - accuracy: 0.8355\n",
            "Epoch 4/100\n",
            "8000/8000 [==============================] - 2s 262us/step - loss: 0.3740 - accuracy: 0.8472\n",
            "Epoch 5/100\n",
            "8000/8000 [==============================] - 2s 258us/step - loss: 0.3606 - accuracy: 0.8533\n",
            "Epoch 6/100\n",
            "8000/8000 [==============================] - 2s 259us/step - loss: 0.3534 - accuracy: 0.8558\n",
            "Epoch 7/100\n",
            "8000/8000 [==============================] - 2s 263us/step - loss: 0.3482 - accuracy: 0.8585\n",
            "Epoch 8/100\n",
            "8000/8000 [==============================] - 2s 260us/step - loss: 0.3448 - accuracy: 0.8591\n",
            "Epoch 9/100\n",
            "8000/8000 [==============================] - 2s 257us/step - loss: 0.3421 - accuracy: 0.8594\n",
            "Epoch 10/100\n",
            "8000/8000 [==============================] - 2s 262us/step - loss: 0.3399 - accuracy: 0.8609\n",
            "Epoch 11/100\n",
            "8000/8000 [==============================] - 2s 260us/step - loss: 0.3392 - accuracy: 0.8601\n",
            "Epoch 12/100\n",
            "8000/8000 [==============================] - 2s 258us/step - loss: 0.3380 - accuracy: 0.8609\n",
            "Epoch 13/100\n",
            "8000/8000 [==============================] - 2s 268us/step - loss: 0.3377 - accuracy: 0.8612\n",
            "Epoch 14/100\n",
            "8000/8000 [==============================] - 2s 259us/step - loss: 0.3360 - accuracy: 0.8634\n",
            "Epoch 15/100\n",
            "8000/8000 [==============================] - 2s 262us/step - loss: 0.3361 - accuracy: 0.8606\n",
            "Epoch 16/100\n",
            "8000/8000 [==============================] - 2s 261us/step - loss: 0.3346 - accuracy: 0.8621\n",
            "Epoch 17/100\n",
            "8000/8000 [==============================] - 2s 264us/step - loss: 0.3352 - accuracy: 0.8602\n",
            "Epoch 18/100\n",
            "8000/8000 [==============================] - 2s 268us/step - loss: 0.3340 - accuracy: 0.8615\n",
            "Epoch 19/100\n",
            "8000/8000 [==============================] - 2s 266us/step - loss: 0.3341 - accuracy: 0.8624\n",
            "Epoch 20/100\n",
            "8000/8000 [==============================] - 2s 260us/step - loss: 0.3336 - accuracy: 0.8611\n",
            "Epoch 21/100\n",
            "8000/8000 [==============================] - 2s 259us/step - loss: 0.3332 - accuracy: 0.8618\n",
            "Epoch 22/100\n",
            "8000/8000 [==============================] - 2s 261us/step - loss: 0.3327 - accuracy: 0.8616\n",
            "Epoch 23/100\n",
            "8000/8000 [==============================] - 2s 267us/step - loss: 0.3324 - accuracy: 0.8611\n",
            "Epoch 24/100\n",
            "8000/8000 [==============================] - 2s 261us/step - loss: 0.3321 - accuracy: 0.8634\n",
            "Epoch 25/100\n",
            "8000/8000 [==============================] - 2s 261us/step - loss: 0.3317 - accuracy: 0.8627\n",
            "Epoch 26/100\n",
            "8000/8000 [==============================] - 2s 263us/step - loss: 0.3306 - accuracy: 0.8631\n",
            "Epoch 27/100\n",
            "8000/8000 [==============================] - 2s 262us/step - loss: 0.3315 - accuracy: 0.8629\n",
            "Epoch 28/100\n",
            "8000/8000 [==============================] - 2s 264us/step - loss: 0.3312 - accuracy: 0.8618\n",
            "Epoch 29/100\n",
            "8000/8000 [==============================] - 2s 261us/step - loss: 0.3305 - accuracy: 0.8640\n",
            "Epoch 30/100\n",
            "8000/8000 [==============================] - 2s 286us/step - loss: 0.3303 - accuracy: 0.8629\n",
            "Epoch 31/100\n",
            "8000/8000 [==============================] - 2s 269us/step - loss: 0.3300 - accuracy: 0.8621\n",
            "Epoch 32/100\n",
            "8000/8000 [==============================] - 2s 265us/step - loss: 0.3301 - accuracy: 0.8625\n",
            "Epoch 33/100\n",
            "8000/8000 [==============================] - 2s 283us/step - loss: 0.3298 - accuracy: 0.8636\n",
            "Epoch 34/100\n",
            "8000/8000 [==============================] - 2s 283us/step - loss: 0.3293 - accuracy: 0.8645\n",
            "Epoch 35/100\n",
            "8000/8000 [==============================] - 2s 268us/step - loss: 0.3294 - accuracy: 0.8643\n",
            "Epoch 36/100\n",
            "8000/8000 [==============================] - 2s 263us/step - loss: 0.3295 - accuracy: 0.8629\n",
            "Epoch 37/100\n",
            "8000/8000 [==============================] - 2s 265us/step - loss: 0.3294 - accuracy: 0.8637\n",
            "Epoch 38/100\n",
            "8000/8000 [==============================] - 2s 271us/step - loss: 0.3286 - accuracy: 0.8651\n",
            "Epoch 39/100\n",
            "8000/8000 [==============================] - 2s 278us/step - loss: 0.3291 - accuracy: 0.8625\n",
            "Epoch 40/100\n",
            "8000/8000 [==============================] - 2s 270us/step - loss: 0.3293 - accuracy: 0.8627\n",
            "Epoch 41/100\n",
            "8000/8000 [==============================] - 2s 275us/step - loss: 0.3288 - accuracy: 0.8614\n",
            "Epoch 42/100\n",
            "8000/8000 [==============================] - 2s 275us/step - loss: 0.3287 - accuracy: 0.8627\n",
            "Epoch 43/100\n",
            "8000/8000 [==============================] - 2s 273us/step - loss: 0.3284 - accuracy: 0.8621\n",
            "Epoch 44/100\n",
            "8000/8000 [==============================] - 2s 270us/step - loss: 0.3277 - accuracy: 0.8659\n",
            "Epoch 45/100\n",
            "8000/8000 [==============================] - 2s 273us/step - loss: 0.3277 - accuracy: 0.8664\n",
            "Epoch 46/100\n",
            "8000/8000 [==============================] - 2s 272us/step - loss: 0.3280 - accuracy: 0.8641\n",
            "Epoch 47/100\n",
            "8000/8000 [==============================] - 2s 277us/step - loss: 0.3277 - accuracy: 0.8643\n",
            "Epoch 48/100\n",
            "8000/8000 [==============================] - 2s 274us/step - loss: 0.3280 - accuracy: 0.8635\n",
            "Epoch 49/100\n",
            "8000/8000 [==============================] - 2s 281us/step - loss: 0.3276 - accuracy: 0.8646\n",
            "Epoch 50/100\n",
            "8000/8000 [==============================] - 2s 271us/step - loss: 0.3274 - accuracy: 0.8640\n",
            "Epoch 51/100\n",
            "8000/8000 [==============================] - 2s 269us/step - loss: 0.3277 - accuracy: 0.8643\n",
            "Epoch 52/100\n",
            "8000/8000 [==============================] - 2s 269us/step - loss: 0.3273 - accuracy: 0.8644\n",
            "Epoch 53/100\n",
            "8000/8000 [==============================] - 2s 271us/step - loss: 0.3274 - accuracy: 0.8635\n",
            "Epoch 54/100\n",
            "8000/8000 [==============================] - 2s 273us/step - loss: 0.3272 - accuracy: 0.8619\n",
            "Epoch 55/100\n",
            "8000/8000 [==============================] - 2s 271us/step - loss: 0.3265 - accuracy: 0.8631\n",
            "Epoch 56/100\n",
            "8000/8000 [==============================] - 2s 275us/step - loss: 0.3272 - accuracy: 0.8656\n",
            "Epoch 57/100\n",
            "8000/8000 [==============================] - 2s 262us/step - loss: 0.3268 - accuracy: 0.8625\n",
            "Epoch 58/100\n",
            "8000/8000 [==============================] - 2s 267us/step - loss: 0.3266 - accuracy: 0.8636\n",
            "Epoch 59/100\n",
            "8000/8000 [==============================] - 2s 267us/step - loss: 0.3272 - accuracy: 0.8635\n",
            "Epoch 60/100\n",
            "8000/8000 [==============================] - 2s 265us/step - loss: 0.3268 - accuracy: 0.8634\n",
            "Epoch 61/100\n",
            "8000/8000 [==============================] - 2s 264us/step - loss: 0.3265 - accuracy: 0.8630\n",
            "Epoch 62/100\n",
            "8000/8000 [==============================] - 2s 268us/step - loss: 0.3268 - accuracy: 0.8636\n",
            "Epoch 63/100\n",
            "8000/8000 [==============================] - 2s 268us/step - loss: 0.3266 - accuracy: 0.8636\n",
            "Epoch 64/100\n",
            "8000/8000 [==============================] - 2s 266us/step - loss: 0.3264 - accuracy: 0.8658\n",
            "Epoch 65/100\n",
            "8000/8000 [==============================] - 2s 274us/step - loss: 0.3263 - accuracy: 0.8641\n",
            "Epoch 66/100\n",
            "8000/8000 [==============================] - 2s 266us/step - loss: 0.3264 - accuracy: 0.8660\n",
            "Epoch 67/100\n",
            "8000/8000 [==============================] - 2s 264us/step - loss: 0.3263 - accuracy: 0.8661\n",
            "Epoch 68/100\n",
            "8000/8000 [==============================] - 2s 265us/step - loss: 0.3255 - accuracy: 0.8645\n",
            "Epoch 69/100\n",
            "8000/8000 [==============================] - 2s 265us/step - loss: 0.3259 - accuracy: 0.8655\n",
            "Epoch 70/100\n",
            "8000/8000 [==============================] - 2s 267us/step - loss: 0.3257 - accuracy: 0.8643\n",
            "Epoch 71/100\n",
            "8000/8000 [==============================] - 2s 279us/step - loss: 0.3254 - accuracy: 0.8646\n",
            "Epoch 72/100\n",
            "8000/8000 [==============================] - 2s 278us/step - loss: 0.3261 - accuracy: 0.8655\n",
            "Epoch 73/100\n",
            "8000/8000 [==============================] - 2s 281us/step - loss: 0.3253 - accuracy: 0.8641\n",
            "Epoch 74/100\n",
            "8000/8000 [==============================] - 2s 281us/step - loss: 0.3254 - accuracy: 0.8637\n",
            "Epoch 75/100\n",
            "8000/8000 [==============================] - 2s 282us/step - loss: 0.3255 - accuracy: 0.8651\n",
            "Epoch 76/100\n",
            "8000/8000 [==============================] - 2s 275us/step - loss: 0.3251 - accuracy: 0.8643\n",
            "Epoch 77/100\n",
            "8000/8000 [==============================] - 2s 265us/step - loss: 0.3252 - accuracy: 0.8645\n",
            "Epoch 78/100\n",
            "8000/8000 [==============================] - 2s 283us/step - loss: 0.3251 - accuracy: 0.8630\n",
            "Epoch 79/100\n",
            "8000/8000 [==============================] - 2s 270us/step - loss: 0.3250 - accuracy: 0.8643\n",
            "Epoch 80/100\n",
            "8000/8000 [==============================] - 2s 261us/step - loss: 0.3249 - accuracy: 0.8661\n",
            "Epoch 81/100\n",
            "8000/8000 [==============================] - 2s 264us/step - loss: 0.3247 - accuracy: 0.8649\n",
            "Epoch 82/100\n",
            "8000/8000 [==============================] - 2s 262us/step - loss: 0.3251 - accuracy: 0.8639\n",
            "Epoch 83/100\n",
            "8000/8000 [==============================] - 2s 270us/step - loss: 0.3250 - accuracy: 0.8636\n",
            "Epoch 84/100\n",
            "8000/8000 [==============================] - 2s 267us/step - loss: 0.3247 - accuracy: 0.8643\n",
            "Epoch 85/100\n",
            "8000/8000 [==============================] - 2s 265us/step - loss: 0.3245 - accuracy: 0.8662\n",
            "Epoch 86/100\n",
            "8000/8000 [==============================] - 2s 271us/step - loss: 0.3241 - accuracy: 0.8664\n",
            "Epoch 87/100\n",
            "8000/8000 [==============================] - 2s 264us/step - loss: 0.3251 - accuracy: 0.8639\n",
            "Epoch 88/100\n",
            "8000/8000 [==============================] - 2s 272us/step - loss: 0.3247 - accuracy: 0.8651\n",
            "Epoch 89/100\n",
            "8000/8000 [==============================] - 2s 268us/step - loss: 0.3242 - accuracy: 0.8659\n",
            "Epoch 90/100\n",
            "8000/8000 [==============================] - 2s 274us/step - loss: 0.3243 - accuracy: 0.8652\n",
            "Epoch 91/100\n",
            "8000/8000 [==============================] - 2s 263us/step - loss: 0.3242 - accuracy: 0.8660\n",
            "Epoch 92/100\n",
            "8000/8000 [==============================] - 2s 267us/step - loss: 0.3239 - accuracy: 0.8655\n",
            "Epoch 93/100\n",
            "8000/8000 [==============================] - 2s 273us/step - loss: 0.3238 - accuracy: 0.8639\n",
            "Epoch 94/100\n",
            "8000/8000 [==============================] - 2s 266us/step - loss: 0.3243 - accuracy: 0.8654\n",
            "Epoch 95/100\n",
            "8000/8000 [==============================] - 2s 271us/step - loss: 0.3242 - accuracy: 0.8641\n",
            "Epoch 96/100\n",
            "8000/8000 [==============================] - 2s 265us/step - loss: 0.3238 - accuracy: 0.8673\n",
            "Epoch 97/100\n",
            "8000/8000 [==============================] - 2s 266us/step - loss: 0.3236 - accuracy: 0.8646\n",
            "Epoch 98/100\n",
            "8000/8000 [==============================] - 2s 274us/step - loss: 0.3229 - accuracy: 0.8661\n",
            "Epoch 99/100\n",
            "8000/8000 [==============================] - 2s 273us/step - loss: 0.3234 - accuracy: 0.8650\n",
            "Epoch 100/100\n",
            "8000/8000 [==============================] - 2s 272us/step - loss: 0.3238 - accuracy: 0.8650\n"
          ],
          "name": "stdout"
        },
        {
          "output_type": "execute_result",
          "data": {
            "text/plain": [
              "<keras.callbacks.callbacks.History at 0x7ff6f9e93e80>"
            ]
          },
          "metadata": {
            "tags": []
          },
          "execution_count": 22
        }
      ]
    },
    {
      "cell_type": "code",
      "metadata": {
        "id": "xYshA71-gklX",
        "colab_type": "code",
        "colab": {}
      },
      "source": [
        "y_pred = classifier.predict(X_test)\n",
        "y_pred = (y_pred > 0.5)\n",
        "\n",
        "# Making the Confusion Matrix\n",
        "from sklearn.metrics import confusion_matrix\n",
        "cm = confusion_matrix(y_test, y_pred)"
      ],
      "execution_count": 0,
      "outputs": []
    },
    {
      "cell_type": "code",
      "metadata": {
        "id": "4mr_0MPRlSpv",
        "colab_type": "code",
        "outputId": "fce2d0bd-dbeb-42ae-ba9f-b9fe312a39e7",
        "colab": {
          "base_uri": "https://localhost:8080/",
          "height": 51
        }
      },
      "source": [
        "cm"
      ],
      "execution_count": 0,
      "outputs": [
        {
          "output_type": "execute_result",
          "data": {
            "text/plain": [
              "array([[1251,  338],\n",
              "       [ 295,  116]])"
            ]
          },
          "metadata": {
            "tags": []
          },
          "execution_count": 26
        }
      ]
    },
    {
      "cell_type": "code",
      "metadata": {
        "id": "yZ5Hut_mmvOg",
        "colab_type": "code",
        "colab": {}
      },
      "source": [
        ""
      ],
      "execution_count": 0,
      "outputs": []
    }
  ]
}